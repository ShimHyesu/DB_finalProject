{
 "cells": [
  {
   "cell_type": "code",
   "execution_count": null,
   "id": "792452a0",
   "metadata": {},
   "outputs": [],
   "source": [
    "pip install xlrd\n",
    "pip install openpyxl\n",
    "pip install pandas"
   ]
  },
  {
   "cell_type": "code",
   "execution_count": 1,
   "id": "a88dff54",
   "metadata": {},
   "outputs": [],
   "source": [
    "import pymysql\n",
    "conn = pymysql.connect(host='localhost', user='db_test', password='hyesu0429@', db='dbProject')"
   ]
  },
  {
   "cell_type": "code",
   "execution_count": 2,
   "id": "55691780",
   "metadata": {},
   "outputs": [],
   "source": [
    "curs = conn.cursor(pymysql.cursors.DictCursor)"
   ]
  },
  {
   "cell_type": "code",
   "execution_count": null,
   "id": "404b8561",
   "metadata": {},
   "outputs": [],
   "source": [
    "import pandas as pd\n",
    "import numpy as np\n",
    "\n",
    "fileName='./movieInfo.xlsx'\n",
    "df = pd.read_excel(fileName,skiprows = 4)\n",
    "df = df.replace({np.nan : None})\n",
    "\n",
    "display(df)"
   ]
  },
  {
   "cell_type": "markdown",
   "id": "63966d78",
   "metadata": {},
   "source": [
    "## 테이블 생성"
   ]
  },
  {
   "cell_type": "code",
   "execution_count": null,
   "id": "59902b2f",
   "metadata": {},
   "outputs": [],
   "source": [
    "sql_create_table_movie = \"CREATE TABLE IF NOT EXISTS Movie ( id INT primary key NOT NULL AUTO_INCREMENT, name VARCHAR(45) NOT NULL, name_eng TEXT, production_year INT, type VARCHAR(10), production_status VARCHAR(10), production_company VARCHAR(100) )\"\n",
    "sql_create_table_director = \"CREATE TABLE IF NOT EXISTS Director ( id INT primary key NOT NULL AUTO_INCREMENT, name VARCHAR(45) NOT NULL ); \"\n",
    "sql_create_table_movieDirector = \"CREATE TABLE IF NOT EXISTS Movie_Director ( movie_id INT NOT NULL, director_id INT NOT NULL, PRIMARY KEY (movie_id, director_id), foreign key (movie_id) references Movie(id)  on update cascade on delete cascade, foreign key (director_id) references Director(id) on update cascade on delete cascade );\"\n",
    "sql_create_table_country = \"CREATE TABLE IF NOT EXISTS Country ( id INT primary key NOT NULL AUTO_INCREMENT, name VARCHAR(20) NOT NULL );\"\n",
    "sql_create_table_movieCountry = \"CREATE TABLE IF NOT EXISTS Movie_Country ( movie_id INT NOT NULL, country_id INT NOT NULL, PRIMARY KEY (movie_id, country_id), foreign key (movie_id) references Movie(id)  on update cascade on delete cascade, foreign key (country_id) references Country(id) on update cascade on delete cascade );\"\n",
    "sql_create_table_genre = \"CREATE TABLE IF NOT EXISTS Genre ( movie_id INT NOT NULL ,genre VARCHAR(20) NOT NULL, PRIMARY KEY (movie_id, genre), foreign key (movie_id) references Movie(id) on update cascade on delete cascade );\"\n",
    "\n",
    "curs.execute(sql_create_table_movie)\n",
    "curs.execute(sql_create_table_director)\n",
    "curs.execute(sql_create_table_movieDirector)\n",
    "curs.execute(sql_create_table_country)\n",
    "curs.execute(sql_create_table_movieCountry)\n",
    "curs.execute(sql_create_table_genre)"
   ]
  },
  {
   "cell_type": "markdown",
   "id": "daa36a2c",
   "metadata": {},
   "source": [
    "## 엑셀 데이터 DB에 삽입"
   ]
  },
  {
   "cell_type": "code",
   "execution_count": null,
   "id": "58c9c00c",
   "metadata": {},
   "outputs": [],
   "source": [
    "sql_insert_movie = \"INSERT IGNORE INTO Movie (name, name_eng, production_year, type, production_status, production_company) values(%s, %s, %s, %s, %s, %s)\"\n",
    "\n",
    "movieSet = set()\n",
    "\n",
    "# insert into Movie \n",
    "for idx,row in df.iterrows():\n",
    "    name = row['영화명']\n",
    "    name_eng = row['영화명(영문)']\n",
    "    production_year = row['제작연도']\n",
    "    type = row['유형']\n",
    "    production_status = row['제작상태']\n",
    "    production_company = row['제작사']\n",
    "\n",
    "    movie = (name, name_eng, production_year, type, production_status, production_company)\n",
    "    movieSet.add(movie)\n",
    "    \n",
    "curs.executemany(sql_insert_movie, movieSet)\n",
    "conn.commit()\n",
    "\n",
    "print(\"insert success\")"
   ]
  },
  {
   "cell_type": "code",
   "execution_count": null,
   "id": "794c4812",
   "metadata": {},
   "outputs": [],
   "source": [
    "sql_insert_director = \"INSERT IGNORE INTO Director (name) values(%s)\"\n",
    "sql_insert_country = \"INSERT IGNORE INTO Country (name) values(%s)\"\n",
    "sql_insert_genre= \"INSERT IGNORE INTO Genre (movie_id, genre) values(%s, %s)\"\n",
    "\n",
    "sql_select_id_movie= \"SELECT id FROM Movie WHERE name = %s\"\n",
    "\n",
    "tuples_genre = []\n",
    "\n",
    "movie_director_list = []\n",
    "movie_country_list = []\n",
    "\n",
    "directorSet=set()\n",
    "countrySet=set()\n",
    "\n",
    "# select id from Movie\n",
    "# insert into Country, Director, Genre\n",
    "for idx,row in df.iterrows():\n",
    "    name = row['영화명']\n",
    "    production_year = row['제작연도']\n",
    "    countries = row['제작국가']\n",
    "    genres = row['장르']\n",
    "    directors = row['감독']\n",
    "    \n",
    "    curs.execute(sql_select_id_movie,name)\n",
    "    movie_id = curs.fetchone()\n",
    "\n",
    "    if directors:\n",
    "        directors = directors.split(',')\n",
    "        movie_director_list.append((movie_id['id'], directors))\n",
    "        for director in directors:\n",
    "            directorSet.add(director)\n",
    "                \n",
    "    if countries:\n",
    "        countries = countries.split(',')\n",
    "        movie_country_list.append((movie_id['id'], countries))\n",
    "        for country in countries:\n",
    "            countrySet.add(country)\n",
    "           \n",
    "    if genres:\n",
    "        genres = genres.split(',')\n",
    "        for genre in genres:\n",
    "            tuples_genre.append((movie_id['id'], genre))\n",
    "\n",
    "\n",
    "                       \n",
    "curs.executemany(sql_insert_director, directorSet)\n",
    "curs.executemany(sql_insert_country, countrySet)\n",
    "curs.executemany(sql_insert_genre, tuples_genre)\n",
    "conn.commit()\n",
    "\n",
    "print(\"insert success\")"
   ]
  },
  {
   "cell_type": "code",
   "execution_count": null,
   "id": "4f1ba936",
   "metadata": {
    "lines_to_next_cell": 0
   },
   "outputs": [],
   "source": [
    "sql_insert_movie_director= \"INSERT IGNORE INTO Movie_Director (movie_id, director_id) values(%s, %s)\"\n",
    "sql_insert_movie_country= \"INSERT IGNORE INTO Movie_Country (movie_id, country_id) values(%s, %s)\"\n",
    "\n",
    "sql_select_id_director = \"SELECT id FROM Director WHERE name = %s\"\n",
    "sql_select_id_country = \"SELECT id FROM Country WHERE name = %s\"\n",
    "\n",
    "tuples_movie_director = []\n",
    "tuples_movie_country = []\n",
    "\n",
    "# select id from Director, Country\n",
    "# insert into Movie_Director, Movie_Country\n",
    "for val in movie_director_list:\n",
    "    movie_id = val[0]\n",
    "    for director in val[1]:\n",
    "        curs.execute(sql_select_id_director, director)\n",
    "        director_id = curs.fetchone()\n",
    "        tuples_movie_director.append((movie_id,director_id['id']))\n",
    "        \n",
    "for val in movie_country_list:\n",
    "    movie_id = val[0]\n",
    "    for country in val[1]:\n",
    "        curs.execute(sql_select_id_country, country)\n",
    "        country_id = curs.fetchone()\n",
    "        tuples_movie_country.append((movie_id,country_id['id']))\n",
    "\n",
    "curs.executemany(sql_insert_movie_director, tuples_movie_director)\n",
    "curs.executemany(sql_insert_movie_country, tuples_movie_country)\n",
    "conn.commit()\n",
    "\n",
    "print(\"insert success\")"
   ]
  },
  {
   "cell_type": "markdown",
   "id": "39589b89",
   "metadata": {
    "lines_to_next_cell": 2
   },
   "source": [
    "## 검색"
   ]
  },
  {
   "cell_type": "code",
   "execution_count": null,
   "id": "38d02d00",
   "metadata": {},
   "outputs": [],
   "source": [
    "# 2020년에 제작된 다큐멘터리 한국 영화의 영화명과 감독을 영화명 순으로 검색\n",
    "sql_select_assign1 = \"\"\" SELECT m.name, d.name\n",
    "FROM Movie m, Director d, Movie_Director md, Genre g, Country c, Movie_Country mc\n",
    "WHERE m.id = md.movie_id and d.id = md.director_id and m.id = mc.movie_id and c.id = mc.country_id and m.id = g.movie_id and g.genre='다큐멘터리' and m.production_year = 2020 and c.name = '한국'\n",
    "ORDER BY m.name\n",
    "\"\"\" \n",
    "\n",
    "print(\"2020년에 제작된 다큐멘터리 한국 영화의 영화명과 감독을 영화명 순으로 검색 \\n\")\n",
    "\n",
    "curs.execute(sql_select_assign1)\n",
    "\n",
    "row = curs.fetchone()\n",
    "while row:\n",
    "    print(\"영화명: %s, 감독: %s\" %(row['name'], row['d.name']))\n",
    "    row = curs.fetchone()"
   ]
  },
  {
   "cell_type": "code",
   "execution_count": null,
   "id": "2d5aa608",
   "metadata": {},
   "outputs": [],
   "source": [
    "# '봉준호’ 감독의 영화를 제작년도 순으로 검색\n",
    "sql_select_assign2 = \"\"\" SELECT m.production_year, m.name\n",
    "FROM Movie m, Director d, Movie_Director md\n",
    "WHERE m.id = md.movie_id and d.id = md.director_id and d.name = \"봉준호\"\n",
    "ORDER BY m.production_year\n",
    "\"\"\" \n",
    "\n",
    "print(\"'봉준호’ 감독의 영화를 제작년도 순으로 검색 \\n\")\n",
    "\n",
    "curs.execute(sql_select_assign2)\n",
    "\n",
    "row = curs.fetchone()\n",
    "while row:\n",
    "    print(\"제작년도: %s, 영화이름: %s\" %(row['production_year'], row['name']))\n",
    "    row = curs.fetchone()"
   ]
  },
  {
   "cell_type": "code",
   "execution_count": null,
   "id": "a368ac79",
   "metadata": {},
   "outputs": [],
   "source": [
    "# 각 년도별 제작된 영화의 편수를 검색하되, 년도별로 출력\n",
    "sql_select_assign3 = \"\"\" SELECT m.production_year, COUNT(*) as count\n",
    "FROM Movie m\n",
    "GROUP BY m.production_year\n",
    "ORDER BY m.production_year\n",
    "\"\"\" \n",
    "\n",
    "print(\"각 년도별 제작된 영화의 편수를 검색하되, 년도별로 출력 \\n\")\n",
    "\n",
    "curs.execute(sql_select_assign3)\n",
    "\n",
    "row = curs.fetchone()\n",
    "while row:\n",
    "    print(\"제작년도: %s, 영화 갯수: %s\" %(row['production_year'], row['count']))\n",
    "    row = curs.fetchone()"
   ]
  },
  {
   "cell_type": "code",
   "execution_count": null,
   "id": "1e5294bb",
   "metadata": {},
   "outputs": [],
   "source": [
    "# 각 나라별 가장 많이 제작된 영화 장르를 검색\n",
    "sql_select_assign4 = \"\"\" SELECT c.name, g.genre, COUNT(g.genre) as count\n",
    "    FROM Movie m, Country c, Movie_Country mc, Genre g\n",
    "    WHERE m.id = mc.movie_id and c.id = mc.country_id and m.id = g.movie_id\n",
    "    GROUP BY c.name, g.genre\n",
    "    HAVING COUNT(*) = (\n",
    "        SELECT MAX(genre_count)\n",
    "        FROM (\n",
    "            SELECT c1.name, COUNT(*) as genre_count\n",
    "            FROM Movie m1, Country c1, Movie_Country mc1, Genre g1\n",
    "            WHERE m1.id = mc1.movie_id and c1.id = mc1.country_id and m1.id = g1.movie_id\n",
    "            GROUP BY c1.name, g1.genre\n",
    "        ) as result\n",
    "        WHERE result.name = c.name\n",
    "    )\n",
    "\"\"\"\n",
    "\n",
    "\n",
    "print(\"각 나라별 가장 많은 제작된 영화 장르를 검색 \\n\")\n",
    "\n",
    "curs.execute(sql_select_assign4)\n",
    "\n",
    "row = curs.fetchone()\n",
    "while row:\n",
    "    print(\"나라: %s, 영화장르: %s, 갯수: %s \" %(row['name'], row['genre'],row['count']))\n",
    "    row = curs.fetchone()\n"
   ]
  },
  {
   "cell_type": "code",
   "execution_count": null,
   "id": "b7dd48d1",
   "metadata": {},
   "outputs": [],
   "source": [
    "# 한국, 일본, 중국 세나라에 대하여 각 나라별 영화를 가장 많이 감독한 감독의 이름을 검색\n",
    "sql_select_assign5 = \"\"\" SELECT c.name, d.name, COUNT(d.name) as count\n",
    "    FROM Movie m, Country c, Movie_Country mc, Director d, Movie_Director md\n",
    "    WHERE m.id = mc.movie_id and c.id = mc.country_id and m.id = md.movie_id and d.id = md.director_id and c.name IN('한국','일본','중국')\n",
    "    GROUP BY c.name, d.name\n",
    "     HAVING COUNT(*) = (\n",
    "        SELECT MAX(director_count)\n",
    "        FROM (\n",
    "            SELECT c1.name, COUNT(*) as director_count\n",
    "            FROM Movie m1, Country c1, Movie_Country mc1, Director d1, Movie_Director md1\n",
    "            WHERE m1.id = mc1.movie_id and c1.id = mc1.country_id and m1.id = md1.movie_id and d1.id = md1.director_id and c1.name IN('한국','일본','중국')\n",
    "            GROUP BY c1.name, d1.name\n",
    "        ) as result\n",
    "        WHERE result.name = c.name\n",
    "    )\n",
    "\"\"\"\n",
    "\n",
    "\n",
    "print(\"한국, 일본, 중국 세나라에 대하여 각 나라별 영화를 가장 많이 감독한 감독의 이름을 검색 \\n\")\n",
    "\n",
    "curs.execute(sql_select_assign5)\n",
    "\n",
    "row = curs.fetchone()\n",
    "\n",
    "while row:\n",
    "    print(\"나라: %s, 감독: %s, 갯수: %s\" %(row['name'], row['d.name'], row['count'] ))\n",
    "    row = curs.fetchone()"
   ]
  },
  {
   "cell_type": "markdown",
   "id": "7c41ccbb",
   "metadata": {},
   "source": [
    "## 검색조건 입력받기"
   ]
  },
  {
   "cell_type": "code",
   "execution_count": 3,
   "id": "a81ad4a0",
   "metadata": {},
   "outputs": [
    {
     "name": "stdout",
     "output_type": "stream",
     "text": [
      "영화 제목을 입력하세요뉴\n",
      "제작연도를 입력하세요2022\n",
      "제작국가를 입력하세요\n",
      "장르를 입력하세요\n",
      "감독을 입력하세요\n",
      "{'name': '더 메뉴', 'production_year': 2022, 'c.name': '미국', 'genre': '스릴러', 'd.name': '마크 미로드'}\n",
      "{'name': '새로운 집, 섹스 메뉴얼', 'production_year': 2022, 'c.name': '한국', 'genre': '드라마', 'd.name': '송정규'}\n",
      "{'name': '새로운 집, 섹스 메뉴얼', 'production_year': 2022, 'c.name': '한국', 'genre': '성인물(에로)', 'd.name': '송정규'}\n"
     ]
    }
   ],
   "source": [
    "movieNameInput = input(\"영화 제목을 입력하세요\")\n",
    "productionYearInput = input(\"제작연도를 입력하세요\")\n",
    "countryInput = input(\"제작국가를 입력하세요\")\n",
    "genreInput = input(\"장르를 입력하세요\")\n",
    "directorInput = input(\"감독을 입력하세요\")\n",
    "\n",
    "sql_input = \"\"\" SELECT m.name, m.production_year, c.name, g.genre, d.name \n",
    "    FROM Movie m, Director d, Country c, Genre g, Movie_Director md, Movie_Country mc \n",
    "    WHERE m.id = md.movie_id and d.id = md.director_id and m.id = mc.movie_id and c.id = mc.country_id and m.id = g.movie_id\n",
    "\"\"\"\n",
    "if(movieNameInput):\n",
    "    sql_input += f\"and m.name like '%{movieNameInput}%'\"\n",
    "if(productionYearInput):\n",
    "    sql_input += f\"and m.production_year = {productionYearInput}\"\n",
    "if(countryInput):\n",
    "    sql_input += f\"and c.name = {countryInput}\"\n",
    "if(genreInput):\n",
    "    sql_input += f\"and g.genre = {genreInput}\"\n",
    "if(directorInput):\n",
    "    sql_input += f\"and d.name = {directorInput}\"\n",
    "    \n",
    "\n",
    "curs.execute(sql_input)\n",
    "result = curs.fetchone()\n",
    "while result:\n",
    "    print(result)\n",
    "    result = curs.fetchone()"
   ]
  },
  {
   "cell_type": "code",
   "execution_count": null,
   "id": "bca48376",
   "metadata": {},
   "outputs": [],
   "source": []
  }
 ],
 "metadata": {
  "jupytext": {
   "formats": "ipynb,py:light"
  },
  "kernelspec": {
   "display_name": "Python 3 (ipykernel)",
   "language": "python",
   "name": "python3"
  },
  "language_info": {
   "codemirror_mode": {
    "name": "ipython",
    "version": 3
   },
   "file_extension": ".py",
   "mimetype": "text/x-python",
   "name": "python",
   "nbconvert_exporter": "python",
   "pygments_lexer": "ipython3",
   "version": "3.10.9"
  }
 },
 "nbformat": 4,
 "nbformat_minor": 5
}
